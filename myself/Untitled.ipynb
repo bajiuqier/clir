{
 "cells": [
  {
   "cell_type": "code",
   "execution_count": 2,
   "id": "97cb7519-7333-49b6-82c7-74f3a75870c8",
   "metadata": {
    "ExecutionIndicator": {
     "show": true
    },
    "execution": {
     "iopub.execute_input": "2024-07-13T15:14:35.898315Z",
     "iopub.status.busy": "2024-07-13T15:14:35.898059Z",
     "iopub.status.idle": "2024-07-13T15:38:55.402331Z",
     "shell.execute_reply": "2024-07-13T15:38:55.401886Z",
     "shell.execute_reply.started": "2024-07-13T15:14:35.898299Z"
    },
    "tags": []
   },
   "outputs": [
    {
     "name": "stderr",
     "output_type": "stream",
     "text": [
      "[INFO] If you have a local copy of http://www.cs.jhu.edu/~shuosun/clirmatrix/data/BI-139/full/zh/zh.kk.train.jl.gz, you can symlink it here to avoid downloading it again: /root/.ir_datasets/downloads/75375b7f156a75e6b3222da6dd8cd604\n",
      "[INFO] download error: HTTPConnectionPool(host='www.cs.jhu.edu', port=80): Max retries exceeded with url: /~shuosun/clirmatrix/data/BI-139/full/zh/zh.kk.train.jl.gz (Caused by NewConnectionError('<urllib3.connection.HTTPConnection object at 0x7f075a082510>: Failed to establish a new connection: [Errno -2] Name or service not known')). Retrying from start.\n",
      "[INFO] [starting] http://www.cs.jhu.edu/~shuosun/clirmatrix/data/BI-139/full/zh/zh.kk.train.jl.gz\n",
      "[INFO] [finished] http://www.cs.jhu.edu/~shuosun/clirmatrix/data/BI-139/full/zh/zh.kk.train.jl.gz: [23:56] [29.8MB] [20.7kB/s]\n",
      "                                                                                                            \r"
     ]
    }
   ],
   "source": [
    "import ir_datasets\n",
    "import pandas as pd\n",
    "\n",
    "dataset = ir_datasets.load('clirmatrix/kk/bi139-full/zh/train')\n",
    "queries_df = pd.DataFrame(dataset.queries_iter())\n",
    "docstore = dataset.docs_store()\n",
    "qrels_df = pd.DataFrame(dataset.qrels_iter())"
   ]
  },
  {
   "cell_type": "code",
   "execution_count": null,
   "id": "510c51bd-5edc-4fe7-bcf2-1a6b521fc8d9",
   "metadata": {},
   "outputs": [],
   "source": []
  }
 ],
 "metadata": {
  "kernelspec": {
   "display_name": "Python 3 (ipykernel)",
   "language": "python",
   "name": "python3"
  },
  "language_info": {
   "codemirror_mode": {
    "name": "ipython",
    "version": 3
   },
   "file_extension": ".py",
   "mimetype": "text/x-python",
   "name": "python",
   "nbconvert_exporter": "python",
   "pygments_lexer": "ipython3",
   "version": "3.11.5"
  }
 },
 "nbformat": 4,
 "nbformat_minor": 5
}

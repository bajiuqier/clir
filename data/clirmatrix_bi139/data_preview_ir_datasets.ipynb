{
 "cells": [
  {
   "cell_type": "code",
   "execution_count": 1,
   "metadata": {},
   "outputs": [],
   "source": [
    "import ir_datasets\n",
    "import pandas as pd\n",
    "from pathlib import Path\n",
    "import json\n",
    "import numpy as np"
   ]
  },
  {
   "cell_type": "code",
   "execution_count": 2,
   "metadata": {},
   "outputs": [],
   "source": [
    "# 使用 ir_datasets 来加载并下载 clirmatrix Bi139 数据\n",
    "# `ir_datasets.load('clirmatrix/{doc_lang}/{bi139-base|bi139-full}/{query_lang}/{train|dev|test1|test2}')`\n",
    "# eg：`ir_datasets.load('clirmatrix/kk/bi139-full/zh/train')`\n",
    "\n",
    "# dataset1 = ir_datasets.load('clirmatrix/kk/bi139-base/zh/train')\n",
    "dataset2 = ir_datasets.load('clirmatrix/kk/bi139-base/zh/test1')\n",
    "# dataset3 = ir_datasets.load('clirmatrix/kk/bi139-base/zh/test2')\n",
    "# # dataset4 = ir_datasets.load('clirmatrix/kk/bi139-full/zh/dev')\n",
    "\n",
    "# dataset_kkzh = ir_datasets.load('clirmatrix/zh/bi139-base/kk/train')\n",
    "# dataset2 = ir_datasets.load('clirmatrix/zh/bi139-full/kk/test1')\n",
    "# dataset3 = ir_datasets.load('clirmatrix/zh/bi139-full/kk/test2')\n",
    "# dataset4 = ir_datasets.load('clirmatrix/zh/bi139-full/kk/dev')\n"
   ]
  }
 ],
 "metadata": {
  "kernelspec": {
   "display_name": "clir",
   "language": "python",
   "name": "python3"
  },
  "language_info": {
   "codemirror_mode": {
    "name": "ipython",
    "version": 3
   },
   "file_extension": ".py",
   "mimetype": "text/x-python",
   "name": "python",
   "nbconvert_exporter": "python",
   "pygments_lexer": "ipython3",
   "version": "3.11.9"
  }
 },
 "nbformat": 4,
 "nbformat_minor": 2
}

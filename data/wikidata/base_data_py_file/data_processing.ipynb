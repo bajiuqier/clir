{
 "cells": [
  {
   "cell_type": "code",
   "execution_count": 15,
   "metadata": {},
   "outputs": [],
   "source": [
    "import pandas as pd\n",
    "from pathlib import Path\n",
    "import os\n",
    "import glob\n",
    "import re"
   ]
  },
  {
   "cell_type": "code",
   "execution_count": 16,
   "metadata": {},
   "outputs": [],
   "source": [
    "HOME_DIR = Path.home() / 'Desktop' / 'clir' / 'data' / 'wikidata' / 'base_data'"
   ]
  },
  {
   "cell_type": "code",
   "execution_count": 17,
   "metadata": {},
   "outputs": [],
   "source": [
    "# --------------------- 过滤 query 的 QID ---------------------\n",
    "QID_search_results_file = str(HOME_DIR / 'base_train_QID_search_results.csv')\n",
    "QID_filtered_search_results_file = str(HOME_DIR / 'base_train_QID_filtered_search_results.csv')\n",
    "\n",
    "def filter_qid(original_file: str, filtered_file: str):\n",
    "\n",
    "    QID_df = pd.read_csv(original_file, encoding='utf-8')\n",
    "\n",
    "    # columns_to_keep = ['query', 'search_term', 'id', 'label', 'description']\n",
    "    columns_to_keep = ['query_id', 'query', 'qid']\n",
    "\n",
    "    # 只取 columns_to_keep 列数据，然后去除 id 列 为NaN的行数据\n",
    "    QID_filtered_df = QID_df[columns_to_keep].dropna(subset=['qid'])\n",
    "    # 去除重复项\n",
    "    QID_filtered_df.drop_duplicates(keep='first', inplace=True)\n",
    "\n",
    "    # 保存文件\n",
    "    QID_filtered_df.to_csv(filtered_file, index=False, encoding='utf-8')\n",
    "\n",
    "filter_qid(QID_search_results_file, QID_filtered_search_results_file)"
   ]
  },
  {
   "cell_type": "code",
   "execution_count": 2,
   "metadata": {},
   "outputs": [
    {
     "name": "stdout",
     "output_type": "stream",
     "text": [
      "亚历山大一世 (俄国)\n"
     ]
    }
   ],
   "source": [
    "import ir_datasets\n",
    "import pandas as pd\n",
    "dataset_obj = ir_datasets.load('clirmatrix/kk/bi139-base/zh/train')\n",
    "queries_df = pd.DataFrame(dataset_obj.queries_iter())\n",
    "for idx, row in queries_df.iterrows():\n",
    "    if idx == 31:\n",
    "        print(row['text'])\n",
    "        break\n",
    "    "
   ]
  },
  {
   "cell_type": "code",
   "execution_count": 4,
   "metadata": {},
   "outputs": [],
   "source": [
    "a = {\"searchinfo\": {\"search\": \"亚历山大一世 (俄国)\"},\"search\": [],\"success\": 1}\n",
    "\n",
    "b = a.get(\"search\")"
   ]
  },
  {
   "cell_type": "code",
   "execution_count": 12,
   "metadata": {},
   "outputs": [],
   "source": [
    "b.extend([1])"
   ]
  },
  {
   "cell_type": "code",
   "execution_count": 13,
   "metadata": {},
   "outputs": [
    {
     "data": {
      "text/plain": [
       "True"
      ]
     },
     "execution_count": 13,
     "metadata": {},
     "output_type": "execute_result"
    }
   ],
   "source": [
    "len(b) > 0"
   ]
  },
  {
   "cell_type": "code",
   "execution_count": 14,
   "metadata": {},
   "outputs": [
    {
     "data": {
      "text/plain": [
       "[1]"
      ]
     },
     "execution_count": 14,
     "metadata": {},
     "output_type": "execute_result"
    }
   ],
   "source": [
    "b"
   ]
  },
  {
   "cell_type": "code",
   "execution_count": null,
   "metadata": {},
   "outputs": [],
   "source": []
  }
 ],
 "metadata": {
  "kernelspec": {
   "display_name": "clir",
   "language": "python",
   "name": "python3"
  },
  "language_info": {
   "codemirror_mode": {
    "name": "ipython",
    "version": 3
   },
   "file_extension": ".py",
   "mimetype": "text/x-python",
   "name": "python",
   "nbconvert_exporter": "python",
   "pygments_lexer": "ipython3",
   "version": "3.10.13"
  }
 },
 "nbformat": 4,
 "nbformat_minor": 2
}

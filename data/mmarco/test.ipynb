{
 "cells": [
  {
   "cell_type": "code",
   "execution_count": 1,
   "metadata": {},
   "outputs": [
    {
     "data": {
      "text/plain": [
       "'\\nDownloading builder script: 100%|██████████| 9.96k/9.96k [00:00<00:00, 38.4MB/s]\\nDownloading readme: 100%|██████████| 3.23k/3.23k [00:00<?, ?B/s]\\nRepo card metadata block was not found. Setting CardData to empty.\\nDownloading data: 100%|██████████| 2.72G/2.72G [05:25<00:00, 8.35MB/s]\\nDownloading data: 100%|██████████| 31.6M/31.6M [00:07<00:00, 4.11MB/s]\\nDownloading data: 100%|██████████| 905M/905M [01:48<00:00, 8.36MB/s]t]\\nDownloading data files: 100%|██████████| 3/3 [07:44<00:00, 154.81s/it]\\nExtracting data files: 100%|██████████| 3/3 [00:00<00:00, 124.58it/s]\\nGenerating train split: 21063999 examples [23:38, 14854.57 examples/s]\\n\\n样本数太多了 千万级别了  电脑撑不住 暂停了\\n\\n这加载的是 单语的 样本数据 [query, positive, negative]\\n并不适合 跨语言的数据\\n'"
      ]
     },
     "execution_count": 1,
     "metadata": {},
     "output_type": "execute_result"
    }
   ],
   "source": [
    "# from datasets import load_dataset\n",
    "\n",
    "# dataset = load_dataset(\"unicamp-dl/mmarco\", \"chinese\")[\"train\"]\n",
    "'''\n",
    "Downloading builder script: 100%|██████████| 9.96k/9.96k [00:00<00:00, 38.4MB/s]\n",
    "Downloading readme: 100%|██████████| 3.23k/3.23k [00:00<?, ?B/s]\n",
    "Repo card metadata block was not found. Setting CardData to empty.\n",
    "Downloading data: 100%|██████████| 2.72G/2.72G [05:25<00:00, 8.35MB/s]\n",
    "Downloading data: 100%|██████████| 31.6M/31.6M [00:07<00:00, 4.11MB/s]\n",
    "Downloading data: 100%|██████████| 905M/905M [01:48<00:00, 8.36MB/s]t]\n",
    "Downloading data files: 100%|██████████| 3/3 [07:44<00:00, 154.81s/it]\n",
    "Extracting data files: 100%|██████████| 3/3 [00:00<00:00, 124.58it/s]\n",
    "Generating train split: 21063999 examples [23:38, 14854.57 examples/s]\n",
    "\n",
    "样本数太多了 千万级别了  电脑撑不住 暂停了\n",
    "\n",
    "这加载的是 单语的 样本数据 [query, positive, negative]\n",
    "并不适合 跨语言的数据\n",
    "'''\n"
   ]
  },
  {
   "cell_type": "code",
   "execution_count": 1,
   "metadata": {},
   "outputs": [],
   "source": [
    "from pathlib import Path\n",
    "import pandas as pd\n",
    "import numpy as np\n",
    "import ir_datasets\n"
   ]
  },
  {
   "cell_type": "code",
   "execution_count": 2,
   "metadata": {},
   "outputs": [],
   "source": [
    "file_path = Path.home() / 'Desktop' / 'Datasets' / 'mmarco' / 'v2' / 'google' / 'runs' / 'run.bm25_chinese-msmarco.txt'\n",
    "file_path = str(file_path)\n",
    "\n",
    "chinese_queries_dev_path = str(Path.home() / 'Desktop' / 'Datasets' / 'mmarco' / 'v2' / 'dev' / 'chinese_queries.dev.tsv')\n",
    "qrels_dev_path = str(Path.home() / 'Desktop' / 'Datasets' / 'mmarco' / 'v2' / 'dev' / 'qrels.dev.tsv')\n",
    "triples_train_ids_path = str(Path.home() / 'Desktop' / 'Datasets' / 'mmarco' / 'v2' / 'triples.train.ids.small.tsv')\n",
    "chinese_queries_dev_small_path = str(Path.home() / 'Desktop' / 'Datasets' / 'mmarco' / 'v2' / 'dev' / 'chinese_queries.dev.small.tsv')\n",
    "\n",
    "collection_df_col_names = ['passage_id', 'text']\n",
    "queries_df_col_names = ['query_id', 'text']\n",
    "\n",
    "english_collection_path = Path.home() / 'Desktop' / 'Datasets' / 'mmarco' / 'v2' / 'google' / 'collenctions' / 'english_collection.tsv'\n",
    "english_collection_path = str(english_collection_path)\n",
    "\n",
    "english_collection_fragment_path = Path.home() / 'Desktop' / 'Datasets' / 'mmarco' / 'v2' / 'google' / 'collenctions' / 'english_collection_fragment.tsv'\n",
    "english_collection_fragment_path = str(english_collection_fragment_path)\n",
    "chinese_queries_dev_fragment_path = Path.home() / 'Desktop' / 'Datasets' / 'mmarco' / 'v2' / 'google' / 'collenctions' / 'chinese_queries_dev_fragment.tsv'\n",
    "chinese_queries_dev_fragment_path = str(chinese_queries_dev_fragment_path)\n"
   ]
  },
  {
   "cell_type": "code",
   "execution_count": 7,
   "metadata": {},
   "outputs": [
    {
     "name": "stdout",
     "output_type": "stream",
     "text": [
      "2\t雄激素受体定义\n",
      "\n",
      "28\t FRB 定义的执行官的定义\n",
      "\n",
      "34\t 加工厂封存指南\n",
      "\n",
      "52\t pneumo 是一个前缀，意思是空气。知道了这一点，解释为什么这种情况被称为气胸\n",
      "\n",
      "58\t 膝盖是什么类型的关节\n",
      "\n",
      "71\t 什么国籍是名字因素\n",
      "\n",
      "74\t 人类哪里的原生生物最丰富\n",
      "\n",
      "83\t 你是荷兰人是什么意思\n",
      "\n",
      "102\t% 饱和度做计算\n",
      "\n",
      "106\t“com 多单元”分区定义\n",
      "\n"
     ]
    }
   ],
   "source": [
    "with open(chinese_queries_dev_path, 'r', encoding='utf-8') as f:\n",
    "    for _ in range(10):\n",
    "        print(f.readline())"
   ]
  },
  {
   "cell_type": "code",
   "execution_count": 6,
   "metadata": {},
   "outputs": [],
   "source": [
    "dataset = ir_datasets.load(\"mmarco/zh/dev/small\")"
   ]
  },
  {
   "cell_type": "code",
   "execution_count": 7,
   "metadata": {},
   "outputs": [
    {
     "data": {
      "text/plain": [
       "8841823"
      ]
     },
     "execution_count": 7,
     "metadata": {},
     "output_type": "execute_result"
    }
   ],
   "source": [
    "dataset.docs_count()"
   ]
  },
  {
   "cell_type": "code",
   "execution_count": 8,
   "metadata": {},
   "outputs": [
    {
     "name": "stderr",
     "output_type": "stream",
     "text": [
      "[INFO] [starting] https://huggingface.co/datasets/unicamp-dl/mmarco/resolve/main/data/qrels.dev.small.tsv\n",
      "[INFO] [finished] https://huggingface.co/datasets/unicamp-dl/mmarco/resolve/main/data/qrels.dev.small.tsv: [00:00] [143kB] [326kB/s]\n",
      "[INFO] [starting] https://macavaney.us/files/mmarco/83820cac1d3e27a7c911d5116ebce558                              \n",
      "[INFO] [finished] https://macavaney.us/files/mmarco/83820cac1d3e27a7c911d5116ebce558: [00:01] [4.40MB] [2.87MB/s]\n",
      "                                                                                               \r"
     ]
    }
   ],
   "source": [
    "queries_df = pd.DataFrame(dataset.queries_iter())\n",
    "qrels_df = pd.DataFrame(dataset.qrels_iter())"
   ]
  },
  {
   "cell_type": "code",
   "execution_count": 14,
   "metadata": {},
   "outputs": [
    {
     "data": {
      "text/plain": [
       "str"
      ]
     },
     "execution_count": 14,
     "metadata": {},
     "output_type": "execute_result"
    }
   ],
   "source": [
    "type(qrels_df.loc[:]['query_id'].to_list()[0])"
   ]
  },
  {
   "cell_type": "code",
   "execution_count": 15,
   "metadata": {},
   "outputs": [
    {
     "data": {
      "text/html": [
       "<div>\n",
       "<style scoped>\n",
       "    .dataframe tbody tr th:only-of-type {\n",
       "        vertical-align: middle;\n",
       "    }\n",
       "\n",
       "    .dataframe tbody tr th {\n",
       "        vertical-align: top;\n",
       "    }\n",
       "\n",
       "    .dataframe thead th {\n",
       "        text-align: right;\n",
       "    }\n",
       "</style>\n",
       "<table border=\"1\" class=\"dataframe\">\n",
       "  <thead>\n",
       "    <tr style=\"text-align: right;\">\n",
       "      <th></th>\n",
       "      <th>query_id</th>\n",
       "      <th>doc_id</th>\n",
       "      <th>relevance</th>\n",
       "      <th>iteration</th>\n",
       "    </tr>\n",
       "  </thead>\n",
       "  <tbody>\n",
       "    <tr>\n",
       "      <th>0</th>\n",
       "      <td>300674</td>\n",
       "      <td>7067032</td>\n",
       "      <td>1</td>\n",
       "      <td>0</td>\n",
       "    </tr>\n",
       "    <tr>\n",
       "      <th>1</th>\n",
       "      <td>125705</td>\n",
       "      <td>7067056</td>\n",
       "      <td>1</td>\n",
       "      <td>0</td>\n",
       "    </tr>\n",
       "    <tr>\n",
       "      <th>2</th>\n",
       "      <td>94798</td>\n",
       "      <td>7067181</td>\n",
       "      <td>1</td>\n",
       "      <td>0</td>\n",
       "    </tr>\n",
       "    <tr>\n",
       "      <th>3</th>\n",
       "      <td>9083</td>\n",
       "      <td>7067274</td>\n",
       "      <td>1</td>\n",
       "      <td>0</td>\n",
       "    </tr>\n",
       "    <tr>\n",
       "      <th>4</th>\n",
       "      <td>174249</td>\n",
       "      <td>7067348</td>\n",
       "      <td>1</td>\n",
       "      <td>0</td>\n",
       "    </tr>\n",
       "    <tr>\n",
       "      <th>...</th>\n",
       "      <td>...</td>\n",
       "      <td>...</td>\n",
       "      <td>...</td>\n",
       "      <td>...</td>\n",
       "    </tr>\n",
       "    <tr>\n",
       "      <th>7432</th>\n",
       "      <td>147073</td>\n",
       "      <td>8008770</td>\n",
       "      <td>1</td>\n",
       "      <td>0</td>\n",
       "    </tr>\n",
       "    <tr>\n",
       "      <th>7433</th>\n",
       "      <td>243761</td>\n",
       "      <td>8008787</td>\n",
       "      <td>1</td>\n",
       "      <td>0</td>\n",
       "    </tr>\n",
       "    <tr>\n",
       "      <th>7434</th>\n",
       "      <td>162662</td>\n",
       "      <td>8008977</td>\n",
       "      <td>1</td>\n",
       "      <td>0</td>\n",
       "    </tr>\n",
       "    <tr>\n",
       "      <th>7435</th>\n",
       "      <td>247194</td>\n",
       "      <td>8009319</td>\n",
       "      <td>1</td>\n",
       "      <td>0</td>\n",
       "    </tr>\n",
       "    <tr>\n",
       "      <th>7436</th>\n",
       "      <td>195199</td>\n",
       "      <td>8009377</td>\n",
       "      <td>1</td>\n",
       "      <td>0</td>\n",
       "    </tr>\n",
       "  </tbody>\n",
       "</table>\n",
       "<p>7437 rows × 4 columns</p>\n",
       "</div>"
      ],
      "text/plain": [
       "     query_id   doc_id  relevance iteration\n",
       "0      300674  7067032          1         0\n",
       "1      125705  7067056          1         0\n",
       "2       94798  7067181          1         0\n",
       "3        9083  7067274          1         0\n",
       "4      174249  7067348          1         0\n",
       "...       ...      ...        ...       ...\n",
       "7432   147073  8008770          1         0\n",
       "7433   243761  8008787          1         0\n",
       "7434   162662  8008977          1         0\n",
       "7435   247194  8009319          1         0\n",
       "7436   195199  8009377          1         0\n",
       "\n",
       "[7437 rows x 4 columns]"
      ]
     },
     "execution_count": 15,
     "metadata": {},
     "output_type": "execute_result"
    }
   ],
   "source": [
    "qrels_df"
   ]
  },
  {
   "cell_type": "code",
   "execution_count": 10,
   "metadata": {},
   "outputs": [
    {
     "data": {
      "text/html": [
       "<div>\n",
       "<style scoped>\n",
       "    .dataframe tbody tr th:only-of-type {\n",
       "        vertical-align: middle;\n",
       "    }\n",
       "\n",
       "    .dataframe tbody tr th {\n",
       "        vertical-align: top;\n",
       "    }\n",
       "\n",
       "    .dataframe thead th {\n",
       "        text-align: right;\n",
       "    }\n",
       "</style>\n",
       "<table border=\"1\" class=\"dataframe\">\n",
       "  <thead>\n",
       "    <tr style=\"text-align: right;\">\n",
       "      <th></th>\n",
       "      <th>query_id</th>\n",
       "      <th>text</th>\n",
       "    </tr>\n",
       "  </thead>\n",
       "  <tbody>\n",
       "    <tr>\n",
       "      <th>0</th>\n",
       "      <td>1048585</td>\n",
       "      <td>{\\fn黑体\\fs22\\bord1\\shad0\\3aHBE\\4aH00\\fscx67\\fsc...</td>\n",
       "    </tr>\n",
       "    <tr>\n",
       "      <th>1</th>\n",
       "      <td>2</td>\n",
       "      <td>甲状腺素受体定义</td>\n",
       "    </tr>\n",
       "    <tr>\n",
       "      <th>2</th>\n",
       "      <td>524332</td>\n",
       "      <td>在不服藥的情况下治緊張頭痛</td>\n",
       "    </tr>\n",
       "    <tr>\n",
       "      <th>3</th>\n",
       "      <td>1048642</td>\n",
       "      <td>什么是偏执症Sc?</td>\n",
       "    </tr>\n",
       "    <tr>\n",
       "      <th>4</th>\n",
       "      <td>524447</td>\n",
       "      <td>治疗腿部的腐蚀性静脉</td>\n",
       "    </tr>\n",
       "    <tr>\n",
       "      <th>...</th>\n",
       "      <td>...</td>\n",
       "      <td>...</td>\n",
       "    </tr>\n",
       "    <tr>\n",
       "      <th>6975</th>\n",
       "      <td>734979</td>\n",
       "      <td>什么是冠状心肺炎?</td>\n",
       "    </tr>\n",
       "    <tr>\n",
       "      <th>6976</th>\n",
       "      <td>524166</td>\n",
       "      <td>接送我们到银行体育场</td>\n",
       "    </tr>\n",
       "    <tr>\n",
       "      <th>6977</th>\n",
       "      <td>968921</td>\n",
       "      <td>姓来源何在?</td>\n",
       "    </tr>\n",
       "    <tr>\n",
       "      <th>6978</th>\n",
       "      <td>786375</td>\n",
       "      <td>什么是手术前清除?</td>\n",
       "    </tr>\n",
       "    <tr>\n",
       "      <th>6979</th>\n",
       "      <td>1048565</td>\n",
       "      <td>扮演塞巴斯蒂安·米切利斯</td>\n",
       "    </tr>\n",
       "  </tbody>\n",
       "</table>\n",
       "<p>6980 rows × 2 columns</p>\n",
       "</div>"
      ],
      "text/plain": [
       "     query_id                                               text\n",
       "0     1048585  {\\fn黑体\\fs22\\bord1\\shad0\\3aHBE\\4aH00\\fscx67\\fsc...\n",
       "1           2                                           甲状腺素受体定义\n",
       "2      524332                                      在不服藥的情况下治緊張頭痛\n",
       "3     1048642                                          什么是偏执症Sc?\n",
       "4      524447                                         治疗腿部的腐蚀性静脉\n",
       "...       ...                                                ...\n",
       "6975   734979                                          什么是冠状心肺炎?\n",
       "6976   524166                                         接送我们到银行体育场\n",
       "6977   968921                                             姓来源何在?\n",
       "6978   786375                                          什么是手术前清除?\n",
       "6979  1048565                                       扮演塞巴斯蒂安·米切利斯\n",
       "\n",
       "[6980 rows x 2 columns]"
      ]
     },
     "execution_count": 10,
     "metadata": {},
     "output_type": "execute_result"
    }
   ],
   "source": [
    "queries_df"
   ]
  },
  {
   "cell_type": "code",
   "execution_count": null,
   "metadata": {},
   "outputs": [],
   "source": []
  }
 ],
 "metadata": {
  "kernelspec": {
   "display_name": "Python 3",
   "language": "python",
   "name": "python3"
  },
  "language_info": {
   "codemirror_mode": {
    "name": "ipython",
    "version": 3
   },
   "file_extension": ".py",
   "mimetype": "text/x-python",
   "name": "python",
   "nbconvert_exporter": "python",
   "pygments_lexer": "ipython3",
   "version": "3.10.13"
  },
  "orig_nbformat": 4
 },
 "nbformat": 4,
 "nbformat_minor": 2
}
